{
 "cells": [
  {
   "cell_type": "code",
   "execution_count": 6,
   "metadata": {},
   "outputs": [],
   "source": [
    "import numpy as np\n",
    "import matplotlib.pyplot as plt\n",
    "import pandas as pd\n",
    "import seaborn as sns\n",
    "%matplotlib inline"
   ]
  },
  {
   "cell_type": "code",
   "execution_count": 7,
   "metadata": {},
   "outputs": [
    {
     "data": {
      "text/html": [
       "<div>\n",
       "<style scoped>\n",
       "    .dataframe tbody tr th:only-of-type {\n",
       "        vertical-align: middle;\n",
       "    }\n",
       "\n",
       "    .dataframe tbody tr th {\n",
       "        vertical-align: top;\n",
       "    }\n",
       "\n",
       "    .dataframe thead th {\n",
       "        text-align: right;\n",
       "    }\n",
       "</style>\n",
       "<table border=\"1\" class=\"dataframe\">\n",
       "  <thead>\n",
       "    <tr style=\"text-align: right;\">\n",
       "      <th></th>\n",
       "      <th>R&amp;D Spend</th>\n",
       "      <th>Administration</th>\n",
       "      <th>Marketing Spend</th>\n",
       "      <th>State</th>\n",
       "      <th>Profit</th>\n",
       "    </tr>\n",
       "  </thead>\n",
       "  <tbody>\n",
       "    <tr>\n",
       "      <th>0</th>\n",
       "      <td>165349.20</td>\n",
       "      <td>136897.80</td>\n",
       "      <td>471784.10</td>\n",
       "      <td>New York</td>\n",
       "      <td>192261.83</td>\n",
       "    </tr>\n",
       "    <tr>\n",
       "      <th>1</th>\n",
       "      <td>162597.70</td>\n",
       "      <td>151377.59</td>\n",
       "      <td>443898.53</td>\n",
       "      <td>California</td>\n",
       "      <td>191792.06</td>\n",
       "    </tr>\n",
       "    <tr>\n",
       "      <th>2</th>\n",
       "      <td>153441.51</td>\n",
       "      <td>101145.55</td>\n",
       "      <td>407934.54</td>\n",
       "      <td>Florida</td>\n",
       "      <td>191050.39</td>\n",
       "    </tr>\n",
       "    <tr>\n",
       "      <th>3</th>\n",
       "      <td>144372.41</td>\n",
       "      <td>118671.85</td>\n",
       "      <td>383199.62</td>\n",
       "      <td>New York</td>\n",
       "      <td>182901.99</td>\n",
       "    </tr>\n",
       "    <tr>\n",
       "      <th>4</th>\n",
       "      <td>142107.34</td>\n",
       "      <td>91391.77</td>\n",
       "      <td>366168.42</td>\n",
       "      <td>Florida</td>\n",
       "      <td>166187.94</td>\n",
       "    </tr>\n",
       "  </tbody>\n",
       "</table>\n",
       "</div>"
      ],
      "text/plain": [
       "   R&D Spend  Administration  Marketing Spend       State     Profit\n",
       "0  165349.20       136897.80        471784.10    New York  192261.83\n",
       "1  162597.70       151377.59        443898.53  California  191792.06\n",
       "2  153441.51       101145.55        407934.54     Florida  191050.39\n",
       "3  144372.41       118671.85        383199.62    New York  182901.99\n",
       "4  142107.34        91391.77        366168.42     Florida  166187.94"
      ]
     },
     "execution_count": 7,
     "metadata": {},
     "output_type": "execute_result"
    }
   ],
   "source": [
    "companies = pd.read_csv('C:/Users/Rinay Shah/Desktop/Machine Learning/Machine Learning Full/Linear Regression/1000_Companies.csv')\n",
    "X = companies.iloc[:, :-1].values\n",
    "Y = companies.iloc[:, 4].values\n",
    "\n",
    "companies.head()"
   ]
  },
  {
   "cell_type": "code",
   "execution_count": 9,
   "metadata": {},
   "outputs": [
    {
     "data": {
      "text/plain": [
       "<matplotlib.axes._subplots.AxesSubplot at 0x255166628c8>"
      ]
     },
     "execution_count": 9,
     "metadata": {},
     "output_type": "execute_result"
    },
    {
     "data": {
      "image/png": "[encoded data removed]",
      "text/plain": [
       "<Figure size 432x288 with 2 Axes>"
      ]
     },
     "metadata": {
      "needs_background": "light"
     },
     "output_type": "display_data"
    }
   ],
   "source": [
    "#Data Visualization\n",
    "#Correlation matrix\n",
    "sns.heatmap(companies.corr())"
   ]
  },
  {
   "cell_type": "code",
   "execution_count": 47,
   "metadata": {},
   "outputs": [],
   "source": [
    "#Encoding Categorical data\n",
    "from sklearn.preprocessing import LabelEncoder, OneHotEncoder\n",
    "from sklearn.compose import ColumnTransformer\n",
    "labelencoder_X = LabelEncoder()\n",
    "X[:, 3] = labelencoder_X.fit_transform(X[:, 3])\n",
    "transformer = ColumnTransformer([('one_hot_encoder', OneHotEncoder(), [3])],remainder='passthrough')\n",
    "X = np.array(transformer.fit_transform(X), dtype=np.float)\n",
    "labelencoder_Y = LabelEncoder()\n",
    "Y = labelencoder_Y.fit_transform(Y)"
   ]
  },
  {
   "cell_type": "code",
   "execution_count": 39,
   "metadata": {},
   "outputs": [],
   "source": [
    "X = X[:, 1:]"
   ]
  },
  {
   "cell_type": "code",
   "execution_count": 40,
   "metadata": {},
   "outputs": [],
   "source": [
    "from sklearn.model_selection import train_test_split\n",
    "X_train, X_test, Y_train, Y_test = train_test_split(X, Y, test_size=0.2, random_state=0)"
   ]
  },
  {
   "cell_type": "code",
   "execution_count": 41,
   "metadata": {},
   "outputs": [
    {
     "data": {
      "text/plain": [
       "LinearRegression(copy_X=True, fit_intercept=True, n_jobs=None, normalize=False)"
      ]
     },
     "execution_count": 41,
     "metadata": {},
     "output_type": "execute_result"
    }
   ],
   "source": [
    "from sklearn.linear_model import LinearRegression\n",
    "regressor = LinearRegression()\n",
    "regressor.fit(X_train, Y_train)"
   ]
  },
  {
   "cell_type": "code",
   "execution_count": 42,
   "metadata": {},
   "outputs": [
    {
     "data": {
      "text/plain": [
       "array([ 285.68897916,  276.0655375 ,  321.71177994,  898.63464263,\n",
       "        246.68822603,  438.37579637,  666.01083589,  297.56535979,\n",
       "        819.66757468,   34.3660117 ,  124.48876227,  721.38526255,\n",
       "        547.70216549,   70.76343169,  904.81118557,  189.55320521,\n",
       "        493.29334501,  813.48841936,  570.64040972,  942.97965395,\n",
       "        167.7459038 ,  256.60668435,  936.1230652 ,  245.84466056,\n",
       "        393.073021  ,  366.44957906,  -68.45146674,   59.44597085,\n",
       "        138.22442338, 1093.09653972,  511.1533385 ,  440.4937561 ,\n",
       "        374.26393212,  632.40627983,  103.45527416,  420.25969794,\n",
       "        970.82646592,  868.72263633,  891.31864673,  489.22351961,\n",
       "        340.69392788,  819.68400206,  412.25934138,   12.9933715 ,\n",
       "        481.05358693,   65.78516297,  776.78818506,  213.05678825,\n",
       "        786.0421929 ,  584.26484678,  963.56410604,  891.07033871,\n",
       "        313.60241045,  210.90162046,  945.54593661,  254.83911884,\n",
       "        667.28444215,  862.16454703,  253.41676189,  401.22046994,\n",
       "        658.52704975,   28.71636572,  653.05735104,  640.25609975,\n",
       "        345.70679284,  460.3955889 ,  552.58527501,  731.71816068,\n",
       "         73.44205235,  888.78711837,  531.53187642,  845.18703046,\n",
       "        302.95632675,  760.19482654,  246.98929895,  207.63122487,\n",
       "        508.5794158 ,  317.04412332,  633.13821994,  665.49091027,\n",
       "        866.64532942,  640.63590441,  408.71815448,  750.44246137,\n",
       "        646.28210623,  435.55962253,  143.70536405,  280.11893563,\n",
       "        640.99322549,  705.91231749,  772.51937248,   65.08263355,\n",
       "        319.35156914,  453.75789711,   57.15063773,  416.09471321,\n",
       "        698.70446413,  731.77872343,  842.3302042 ,  490.07658539,\n",
       "        511.04432503,  639.96452712,  769.77587406,  519.50495967,\n",
       "        272.65758881,  398.33074973,  330.84034728,  917.01029117,\n",
       "        936.0676879 ,  433.14922015,  818.28499941,  836.29639972,\n",
       "        773.12500157,  891.55571258,  853.16921827,   21.10792665,\n",
       "        900.74741641,  391.28035999,  235.71854705,  638.239356  ,\n",
       "        676.98055934,  799.81419195,  856.15583885,  508.83983625,\n",
       "        780.06463664,  429.82863268,  855.50263037,   80.80475713,\n",
       "        774.40719299,  768.28428589,  889.64192575,  761.07298811,\n",
       "        383.9583077 ,  262.38612448,  651.36764678,  828.98820175,\n",
       "        513.99979368,  736.8835517 ,  368.07353505,  238.15404556,\n",
       "        912.78126039,  370.38010998,  155.61376749,  294.95078488,\n",
       "         90.26036402,  144.35512829,  172.36458928,  900.57784019,\n",
       "        291.84303839,  371.07449286,  312.79173855,  207.17432397,\n",
       "        871.79835987,   81.74348177,  851.59545397,  826.72746465,\n",
       "        826.25594515,  379.82273387,  939.63052651,  178.90538039,\n",
       "        296.11185077,  610.34840815,  116.19944549,  164.56496118,\n",
       "         85.71814804,  959.38526717,  902.91038186,  779.51438542,\n",
       "        655.66329611,  749.19055145,   71.2193947 ,  298.29298503,\n",
       "        737.0113562 ,  847.23492654,  169.57351127,  477.88009235,\n",
       "        223.97021911,  715.43885872,  482.38078483,  570.82507308,\n",
       "        890.54344192, 1701.82257615,  684.30779706,  721.21050088,\n",
       "        266.45507933,  152.54235885,  153.4568583 ,  139.19342941,\n",
       "        509.62196821,  290.91124065,  836.12769428,  537.81830368,\n",
       "        132.33945278,  876.21328839,  488.62307647,  822.8272154 ,\n",
       "        849.05181301,  689.52226086,  655.92371673,  427.89236218])"
      ]
     },
     "execution_count": 42,
     "metadata": {},
     "output_type": "execute_result"
    }
   ],
   "source": [
    "y_pred = regressor.predict(X_test)\n",
    "y_pred"
   ]
  },
  {
   "cell_type": "code",
   "execution_count": 43,
   "metadata": {},
   "outputs": [
    {
     "name": "stdout",
     "output_type": "stream",
     "text": [
      "[-6.71707790e+00  1.57528576e+02  1.17905613e+02 ...  1.71805625e-03\n",
      "  5.45936620e-01  3.33380857e-03]\n"
     ]
    }
   ],
   "source": [
    "print(regressor.coef_)"
   ]
  },
  {
   "cell_type": "code",
   "execution_count": 44,
   "metadata": {},
   "outputs": [
    {
     "name": "stdout",
     "output_type": "stream",
     "text": [
      "-199.52453834032758\n"
     ]
    }
   ],
   "source": [
    "print(regressor.intercept_)"
   ]
  },
  {
   "cell_type": "code",
   "execution_count": 45,
   "metadata": {},
   "outputs": [
    {
     "data": {
      "text/plain": [
       "0.9574570289618999"
      ]
     },
     "execution_count": 45,
     "metadata": {},
     "output_type": "execute_result"
    }
   ],
   "source": [
    "from sklearn.metrics import r2_score\n",
    "r2_score(Y_test,y_pred)"
   ]
  },
  {
   "cell_type": "code",
   "execution_count": null,
   "metadata": {},
   "outputs": [],
   "source": []
  }
 ],
 "metadata": {
  "kernelspec": {
   "display_name": "Python 3",
   "language": "python",
   "name": "python3"
  },
  "language_info": {
   "codemirror_mode": {
    "name": "ipython",
    "version": 3
   },
   "file_extension": ".py",
   "mimetype": "text/x-python",
   "name": "python",
   "nbconvert_exporter": "python",
   "pygments_lexer": "ipython3",
   "version": "3.7.6"
  }
 },
 "nbformat": 4,
 "nbformat_minor": 4
}
